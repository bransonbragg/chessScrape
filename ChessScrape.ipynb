{
 "cells": [
  {
   "cell_type": "code",
   "execution_count": 2,
   "metadata": {},
   "outputs": [],
   "source": [
    "import requests\n",
    "import json\n",
    "import chess.pgn\n",
    "import io\n",
    "import pandas as pd\n",
    "import math\n",
    "import numpy as np"
   ]
  },
  {
   "cell_type": "code",
   "execution_count": 3,
   "metadata": {},
   "outputs": [],
   "source": [
    "USERNAME = \"branbra\"\n",
    "url = f\"https://api.chess.com/pub/player/\" + USERNAME + \"/games/2022/09\"\n",
    "data = requests.get(url)\n",
    "if data.status_code != 200:\n",
    "    raise Exception(\"The following response was returned: \" + str(data.status_code))\n",
    "else:\n",
    "    data = json.loads(data.text)\n",
    "    games = data[\"games\"]\n",
    "all_games=[]\n",
    "for game in games:\n",
    "    pgn = (game['pgn'])\n",
    "    pgn = io.StringIO(pgn)\n",
    "    game = chess.pgn.read_game(pgn)\n",
    "    all_games.append(game)"
   ]
  },
  {
   "cell_type": "code",
   "execution_count": 4,
   "metadata": {},
   "outputs": [],
   "source": [
    "game_list = []\n",
    "for g in all_games:\n",
    "    moves = (g.mainline_moves())\n",
    "    moves = [str(x) for x in moves]\n",
    "    \n",
    "    white = (g.headers['White'])\n",
    "    if white.lower() == USERNAME:\n",
    "        playing_as_white = 1\n",
    "    else:\n",
    "        playing_as_white = 0\n",
    "    \n",
    "    if len(moves)>1:\n",
    "        move_made = (moves[1])\n",
    "    else:\n",
    "        move_made = \"\"\n",
    "    \n",
    "    game = {\"date\": (g.headers[\"Date\"]), \"player_white\": white, \"player_black\": (g.headers['Black']), \"playing_as_white\" : playing_as_white, \"result\": (g.headers['Result']), \"termination\": (g.headers['Termination']), \"moves\": moves, \"no_of_moves\": (math.ceil(len(moves)/2)), \"first_move\": (moves[0]), \"response\": move_made}\n",
    "\n",
    "    \n",
    "    game_list.append(game)\n",
    "game_list = pd.DataFrame(game_list)"
   ]
  },
  {
   "cell_type": "code",
   "execution_count": 5,
   "metadata": {},
   "outputs": [],
   "source": [
    "class TreeNode:\n",
    "    def __init__(self, value) -> None:\n",
    "        self.value = value\n",
    "        self.children = {}  # children[e2e4] = <TreeNode object>\n",
    "        self.num_occur = 1\n",
    "    def add_child(self, val):\n",
    "        self.children[val] = TreeNode(val)\n",
    "    def increment(self):\n",
    "        self.num_occur += 1"
   ]
  },
  {
   "cell_type": "code",
   "execution_count": 11,
   "metadata": {},
   "outputs": [],
   "source": [
    "starting_moves = {}  # FORMAT: starting_moves[e2e4] = TreeNode(value=e2e4)\n",
    "for game in game_list[\"moves\"]:\n",
    "    if game[0] not in starting_moves:\n",
    "        starting_moves[game[0]] = TreeNode(game[0])\n",
    "    else:\n",
    "        starting_moves[game[0]].increment()\n",
    "    cur = starting_moves[game[0]]\n",
    "    for i in range(1, len(game)):\n",
    "        if game[i] not in cur.children:  # cur.children = [e7e5: TreeNode object, d7d5: TreeNode object]\n",
    "            cur.add_child(game[i])\n",
    "        else:\n",
    "            cur.children[game[i]].increment()\n",
    "        cur = cur.children[game[i]]\n",
    "\n"
   ]
  },
  {
   "cell_type": "code",
   "execution_count": 12,
   "metadata": {},
   "outputs": [
    {
     "name": "stdout",
     "output_type": "stream",
     "text": [
      "d2d4: 98\n",
      "e2e4: 317\n",
      "g2g3: 3\n",
      "d2d3: 5\n",
      "e2e3: 6\n",
      "c2c4: 4\n",
      "b2b3: 6\n",
      "f2f4: 1\n",
      "g1f3: 2\n",
      "g8f6: 30\n",
      "d7d5: 30\n",
      "e7e5: 29\n",
      "d7d6: 1\n",
      "g7g6: 1\n",
      "e7e6: 3\n",
      "c7c5: 2\n",
      "b7b6: 1\n",
      "c7c6: 1\n"
     ]
    }
   ],
   "source": [
    "while starting_moves:\n",
    "    possible_moves = starting_moves.keys()\n",
    "    for move in possible_moves:\n",
    "        print(move + \": \" + str((starting_moves[move]).num_occur))\n",
    "    inp = input(\"Which move would you like to play? \")\n",
    "    if inp.lower() in possible_moves:\n",
    "        starting_moves = starting_moves[inp].children\n",
    "    else:\n",
    "        break"
   ]
  }
 ],
 "metadata": {
  "kernelspec": {
   "display_name": "Python 3.10.7 64-bit",
   "language": "python",
   "name": "python3"
  },
  "language_info": {
   "codemirror_mode": {
    "name": "ipython",
    "version": 3
   },
   "file_extension": ".py",
   "mimetype": "text/x-python",
   "name": "python",
   "nbconvert_exporter": "python",
   "pygments_lexer": "ipython3",
   "version": "3.10.7"
  },
  "orig_nbformat": 4,
  "vscode": {
   "interpreter": {
    "hash": "aee8b7b246df8f9039afb4144a1f6fd8d2ca17a180786b69acc140d282b71a49"
   }
  }
 },
 "nbformat": 4,
 "nbformat_minor": 2
}
